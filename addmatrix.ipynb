{
 "cells": [
  {
   "cell_type": "code",
   "execution_count": 24,
   "id": "e46dc0c1-cd81-4ee9-9b2b-96fc6c9b4386",
   "metadata": {},
   "outputs": [
    {
     "name": "stdin",
     "output_type": "stream",
     "text": [
      "Enter the number of rows of A:  1\n",
      "Enter the number of columns of A:  2\n",
      "Enter the number of rows of B:  1\n",
      "Enter the number of columns of B:  2\n",
      "Enter the 1 element of row 1 of A:  2\n",
      "Enter the 2 element of row 1 of A:  1\n",
      "Enter the 1 element of row 1 of B:  3\n",
      "Enter the 2 element of row 1 of B:  4\n"
     ]
    },
    {
     "name": "stdout",
     "output_type": "stream",
     "text": [
      "Resultant Matrix C:\n",
      "[5, 5]\n"
     ]
    }
   ],
   "source": [
    "\n",
    "R = int(input(\"Enter the number of rows of A: \"))\n",
    "P = int(input(\"Enter the number of columns of A: \"))\n",
    "\n",
    "Q = int(input(\"Enter the number of rows of B: \"))\n",
    "S = int(input(\"Enter the number of columns of B: \"))\n",
    "\n",
    "A = []\n",
    "B = []\n",
    "\n",
    "for i in range(R):\n",
    "        Arow = []\n",
    "        for j in range(P):\n",
    "            a = int(input(f\"Enter the {j + 1} element of row {i + 1} of A: \"))\n",
    "            Arow.append(a)\n",
    "        A.append(Arow)\n",
    "    \n",
    "for k in range(Q):\n",
    "        Brow = []\n",
    "        for l in range(S):\n",
    "            b = int(input(f\"Enter the {l + 1} element of row {k + 1} of B: \"))\n",
    "            Brow.append(b)\n",
    "        B.append(Brow)\n",
    "\n",
    "C = []\n",
    "for i in range(R):\n",
    "        Crow = []\n",
    "        for j in range(P):\n",
    "            Crow.append(A[i][j] + B[i][j])\n",
    "        C.append(Crow)\n",
    "\n",
    "print(\"Resultant Matrix C:\")\n",
    "for row in C:\n",
    "    print(row)"
   ]
  },
  {
   "cell_type": "code",
   "execution_count": null,
   "id": "c1dc9671-9ef2-4d0b-b6a3-c5e27ee8b2d4",
   "metadata": {},
   "outputs": [],
   "source": []
  }
 ],
 "metadata": {
  "kernelspec": {
   "display_name": "Python 3 (ipykernel)",
   "language": "python",
   "name": "python3"
  },
  "language_info": {
   "codemirror_mode": {
    "name": "ipython",
    "version": 3
   },
   "file_extension": ".py",
   "mimetype": "text/x-python",
   "name": "python",
   "nbconvert_exporter": "python",
   "pygments_lexer": "ipython3",
   "version": "3.12.4"
  }
 },
 "nbformat": 4,
 "nbformat_minor": 5
}
