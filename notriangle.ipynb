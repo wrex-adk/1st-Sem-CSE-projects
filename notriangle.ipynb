{
 "cells": [
  {
   "cell_type": "code",
   "execution_count": 2,
   "id": "3e399469-dcc4-4e71-85c0-71a589ce6c43",
   "metadata": {},
   "outputs": [
    {
     "ename": "SyntaxError",
     "evalue": "unterminated string literal (detected at line 6) (102748541.py, line 6)",
     "output_type": "error",
     "traceback": [
      "\u001b[1;36m  Cell \u001b[1;32mIn[2], line 6\u001b[1;36m\u001b[0m\n\u001b[1;33m    print(\"6 x\", k, \"=\", 6 * k\")\u001b[0m\n\u001b[1;37m                              ^\u001b[0m\n\u001b[1;31mSyntaxError\u001b[0m\u001b[1;31m:\u001b[0m unterminated string literal (detected at line 6)\n"
     ]
    }
   ],
   "source": [
    "print(\"Multiplication table of 5:\")\n",
    "for i in range(1, 11):\n",
    "    print(\"5 x\", i, \"=\", 5 * i)\n",
    "print(\"Multiplication table of 6:\")\n",
    "for k in range(1,10):\n",
    "  print(\"6 x\", k, \"=\", 6 * k\")"
   ]
  },
  {
   "cell_type": "code",
   "execution_count": 2,
   "id": "7985502a-aa26-4a77-942a-7e08a7160751",
   "metadata": {},
   "outputs": [
    {
     "name": "stdout",
     "output_type": "stream",
     "text": [
      "\n"
     ]
    }
   ],
   "source": []
  },
  {
   "cell_type": "code",
   "execution_count": null,
   "id": "8f025fde-9da2-4dab-99d5-e0914ab649c3",
   "metadata": {},
   "outputs": [],
   "source": []
  }
 ],
 "metadata": {
  "kernelspec": {
   "display_name": "Python 3 (ipykernel)",
   "language": "python",
   "name": "python3"
  },
  "language_info": {
   "codemirror_mode": {
    "name": "ipython",
    "version": 3
   },
   "file_extension": ".py",
   "mimetype": "text/x-python",
   "name": "python",
   "nbconvert_exporter": "python",
   "pygments_lexer": "ipython3",
   "version": "3.12.4"
  }
 },
 "nbformat": 4,
 "nbformat_minor": 5
}
