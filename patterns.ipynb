{
 "cells": [
  {
   "cell_type": "code",
   "execution_count": 5,
   "id": "5b12adf7-7a7a-467f-aece-c9462185a8db",
   "metadata": {},
   "outputs": [
    {
     "name": "stdout",
     "output_type": "stream",
     "text": [
      "    *\n",
      "   ***\n",
      "  *****\n",
      " *******\n",
      "*********\n"
     ]
    }
   ],
   "source": [
    "n=4\n",
    "q=1\n",
    "for i in range(5):\n",
    "    print(\" \"*n+\"*\"*q)\n",
    "    n=n-1\n",
    "    q=q+2\n",
    "        "
   ]
  },
  {
   "cell_type": "code",
   "execution_count": 7,
   "id": "b5f05bb2-dfcf-4cf9-9bf8-2c320b86b5c8",
   "metadata": {},
   "outputs": [
    {
     "name": "stdout",
     "output_type": "stream",
     "text": [
      "    *\n",
      "   **\n",
      "  ***\n",
      " ****\n",
      "*****\n"
     ]
    }
   ],
   "source": [
    "q=1\n",
    "*********\n",
    "\n",
    "p=4\n",
    "for i in range(5):\n",
    "    print(\" \"*p+\"*\"*q)\n",
    "    p=p-1\n",
    "    q=q+1"
   ]
  },
  {
   "cell_type": "code",
   "execution_count": 14,
   "id": "3a0882d5-7be6-4010-bb28-7cb6f6055181",
   "metadata": {},
   "outputs": [
    {
     "name": "stdout",
     "output_type": "stream",
     "text": [
      "12345\n",
      "12345\n",
      "12345\n",
      "12345\n",
      "12345\n"
     ]
    }
   ],
   "source": [
    "for i in range(5):\n",
    "    for j in range(1,6):\n",
    "        print(j,end='')\n",
    "    print()\n",
    "\n"
   ]
  },
  {
   "cell_type": "code",
   "execution_count": 24,
   "id": "bebafa15-cdc3-4bff-aaab-99e769f40f2f",
   "metadata": {},
   "outputs": [
    {
     "name": "stdout",
     "output_type": "stream",
     "text": [
      "    1\n",
      "   222\n",
      "  33333\n",
      " 4444444\n",
      "555555555\n"
     ]
    }
   ],
   "source": [
    "p=4\n",
    "n=1\n",
    "for i in range(1,6):\n",
    "    print(\" \"*p,end='')\n",
    "    for k in range(n):\n",
    "        print(i,end='')\n",
    "    print()\n",
    "    n=n+2\n",
    "    p=p-1\n"
   ]
  },
  {
   "cell_type": "code",
   "execution_count": null,
   "id": "90e100bb-a676-45f0-8547-063b32f2cd25",
   "metadata": {},
   "outputs": [],
   "source": []
  }
 ],
 "metadata": {
  "kernelspec": {
   "display_name": "Python 3 (ipykernel)",
   "language": "python",
   "name": "python3"
  },
  "language_info": {
   "codemirror_mode": {
    "name": "ipython",
    "version": 3
   },
   "file_extension": ".py",
   "mimetype": "text/x-python",
   "name": "python",
   "nbconvert_exporter": "python",
   "pygments_lexer": "ipython3",
   "version": "3.12.4"
  }
 },
 "nbformat": 4,
 "nbformat_minor": 5
}
