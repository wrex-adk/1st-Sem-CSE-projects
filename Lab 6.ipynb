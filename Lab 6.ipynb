{
 "cells": [
  {
   "cell_type": "code",
   "execution_count": 12,
   "id": "9fadec1c-c4de-4441-b25d-0105dfefc5f3",
   "metadata": {},
   "outputs": [
    {
     "name": "stdout",
     "output_type": "stream",
     "text": [
      "[15, 8, 0]\n",
      "[33, 20, 0]\n"
     ]
    }
   ],
   "source": [
    "M1=[[1,2,3],[4,5,6]]\n",
    "M2=[[0,1],[3,2],[3,1]]\n",
    "result=[[0,0,0],[0,0,0]]\n",
    "for i in range (len(M1)):\n",
    "    for j in range(len(M2[0])):\n",
    "        for k in range (len(M2)):\n",
    "            result[i][j]+=M1[i][k]*M2[k][j]\n",
    "for row in result:\n",
    "    print(row)"
   ]
  },
  {
   "cell_type": "code",
   "execution_count": null,
   "id": "d39358ba-f45d-4c57-b7e9-726cf5233db2",
   "metadata": {},
   "outputs": [],
   "source": [
    "import random\n",
    "def guess_number()\n",
    "print(\"Welcome to Guess the Number !\")\n",
    "print(\"I'm thinking of a number between 1 and 10.\")\n",
    "y= random.randint(1, 10)\n",
    "a=0\n",
    "while True:\n",
    "    x=int(input(\"Enter your guess: \"))\n",
    "    a=a+1\n",
    "    if x< y:\n",
    "        print(\"Too Low! tRY AGAIN.\")\n",
    "    elif x>y :\n",
    "        print(\"To high. Try again\")\n",
    "    else:\n",
    "        print(f\"CONGRATULATIONS! You gussed in {a} attempts.\")\n",
    "        break\n",
    "guess_number()\n",
    "    \n",
    "\n",
    "\n",
    "    \n"
   ]
  },
  {
   "cell_type": "code",
   "execution_count": null,
   "id": "37bd28ff-fbdf-4f51-8295-bce2cac981f4",
   "metadata": {},
   "outputs": [],
   "source": []
  }
 ],
 "metadata": {
  "kernelspec": {
   "display_name": "Python 3 (ipykernel)",
   "language": "python",
   "name": "python3"
  },
  "language_info": {
   "codemirror_mode": {
    "name": "ipython",
    "version": 3
   },
   "file_extension": ".py",
   "mimetype": "text/x-python",
   "name": "python",
   "nbconvert_exporter": "python",
   "pygments_lexer": "ipython3",
   "version": "3.12.4"
  }
 },
 "nbformat": 4,
 "nbformat_minor": 5
}
