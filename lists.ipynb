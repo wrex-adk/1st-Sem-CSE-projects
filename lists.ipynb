{
 "cells": [
  {
   "cell_type": "code",
   "execution_count": 2,
   "id": "38dfb24f-2c96-48ae-aec1-c6248db2c9d1",
   "metadata": {},
   "outputs": [
    {
     "name": "stdout",
     "output_type": "stream",
     "text": [
      "15.6 <class 'float'>\n"
     ]
    }
   ],
   "source": [
    "age=15.6\n",
    "print(age, type(age))"
   ]
  },
  {
   "cell_type": "code",
   "execution_count": 1,
   "id": "f7e9e2a0-210d-4047-b2d5-4b6d9f620fd5",
   "metadata": {},
   "outputs": [
    {
     "name": "stdout",
     "output_type": "stream",
     "text": [
      "0 2 4 6 8 "
     ]
    }
   ],
   "source": [
    "for i in range(5):\n",
    "    print(i*2,end=\" \")"
   ]
  },
  {
   "cell_type": "code",
   "execution_count": 10,
   "id": "6819c4c5-7ea1-4cff-a689-a441d27de1e5",
   "metadata": {},
   "outputs": [
    {
     "name": "stdout",
     "output_type": "stream",
     "text": [
      "Pays\n"
     ]
    }
   ],
   "source": [
    "name=\"Pratyush\"\n",
    "print(name[0:8:2])"
   ]
  },
  {
   "cell_type": "code",
   "execution_count": 20,
   "id": "e82fb644-f5fc-49e5-aa62-73ea628cd15c",
   "metadata": {},
   "outputs": [
    {
     "name": "stdout",
     "output_type": "stream",
     "text": [
      "hsuytar\n"
     ]
    }
   ],
   "source": [
    "name=\"Pratyush\"\n",
    "print(name[-1:0:-1])"
   ]
  },
  {
   "cell_type": "code",
   "execution_count": 23,
   "id": "050c3f9f-9a39-466c-a65d-2a83f8af04bc",
   "metadata": {},
   "outputs": [
    {
     "name": "stdout",
     "output_type": "stream",
     "text": [
      "  abcd\n"
     ]
    }
   ],
   "source": [
    "s=\"  abcd  \"\n",
    "print(s.rstrip())"
   ]
  },
  {
   "cell_type": "code",
   "execution_count": 24,
   "id": "ed7ecbe2-638e-454e-8dc4-74985b89112b",
   "metadata": {},
   "outputs": [
    {
     "name": "stdout",
     "output_type": "stream",
     "text": [
      "[2, 3, 4, 5]\n"
     ]
    }
   ],
   "source": [
    "numbers=[0,1,2,3,4,5]\n",
    "print(numbers[2:6])"
   ]
  },
  {
   "cell_type": "code",
   "execution_count": 30,
   "id": "ebd2e09b-679c-457e-8320-5adf9005ca49",
   "metadata": {},
   "outputs": [
    {
     "name": "stdout",
     "output_type": "stream",
     "text": [
      "[1, 2, 4, 8, 16]\n"
     ]
    }
   ],
   "source": [
    "list1=[2**x for x in range (5)]\n",
    "print(list1)"
   ]
  },
  {
   "cell_type": "code",
   "execution_count": 31,
   "id": "e06abbb6-c413-4c77-a3f1-f26518c149b7",
   "metadata": {},
   "outputs": [
    {
     "name": "stdout",
     "output_type": "stream",
     "text": [
      "[0, 2, 4, 6, 8]\n"
     ]
    }
   ],
   "source": [
    "list2=[x for x in range(10) if x%2==0 ]\n",
    "print(list2)"
   ]
  },
  {
   "cell_type": "code",
   "execution_count": null,
   "id": "2a7ee377-63b8-496f-8fe0-91c95144d2c7",
   "metadata": {},
   "outputs": [],
   "source": []
  }
 ],
 "metadata": {
  "kernelspec": {
   "display_name": "Python 3 (ipykernel)",
   "language": "python",
   "name": "python3"
  },
  "language_info": {
   "codemirror_mode": {
    "name": "ipython",
    "version": 3
   },
   "file_extension": ".py",
   "mimetype": "text/x-python",
   "name": "python",
   "nbconvert_exporter": "python",
   "pygments_lexer": "ipython3",
   "version": "3.12.4"
  }
 },
 "nbformat": 4,
 "nbformat_minor": 5
}
