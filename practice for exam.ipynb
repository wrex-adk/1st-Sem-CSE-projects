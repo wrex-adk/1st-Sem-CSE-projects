{
 "cells": [
  {
   "cell_type": "code",
   "execution_count": 3,
   "id": "1e0f61a7-5dde-41ce-a7a0-82fb80630be3",
   "metadata": {},
   "outputs": [
    {
     "name": "stdin",
     "output_type": "stream",
     "text": [
      "enter your weight in kg:  54\n",
      "enter your height in m:  1.68\n"
     ]
    },
    {
     "name": "stdout",
     "output_type": "stream",
     "text": [
      "you are normal weight\n"
     ]
    }
   ],
   "source": [
    "x=float(input(\"enter your weight in kg: \"))\n",
    "y=float(input(\"enter your height in m: \"))\n",
    "b=x/(y**2)\n",
    "if b<18.5:\n",
    "    print(\"yo are underweight\")\n",
    "elif b>=18.5 and b<25:\n",
    "    print(\"you are normal weight\")\n",
    "else:\n",
    "    print(\"you are overweight\")\n",
    "    "
   ]
  },
  {
   "cell_type": "code",
   "execution_count": 4,
   "id": "5e48b1e2-e075-4e7b-b84a-2d50809d3129",
   "metadata": {},
   "outputs": [
    {
     "name": "stdin",
     "output_type": "stream",
     "text": [
      "enter a number: 50\n"
     ]
    },
    {
     "name": "stdout",
     "output_type": "stream",
     "text": [
      "50\n",
      "48\n",
      "46\n",
      "44\n",
      "42\n",
      "40\n",
      "38\n",
      "36\n",
      "34\n",
      "32\n",
      "30\n",
      "28\n",
      "26\n",
      "24\n",
      "22\n",
      "20\n",
      "18\n",
      "16\n",
      "14\n",
      "12\n",
      "10\n",
      "8\n",
      "6\n",
      "4\n",
      "2\n"
     ]
    }
   ],
   "source": [
    "x=int(input(\"enter a number:\"))\n",
    "while x>=1:\n",
    "    y=x%2\n",
    "    if y==0:\n",
    "        print(x)\n",
    "    x=x-1"
   ]
  },
  {
   "cell_type": "code",
   "execution_count": 9,
   "id": "1b33e565-d42b-45ab-9a13-b0a953878273",
   "metadata": {},
   "outputs": [
    {
     "name": "stdin",
     "output_type": "stream",
     "text": [
      "enter n: 5\n"
     ]
    },
    {
     "name": "stdout",
     "output_type": "stream",
     "text": [
      "15\n"
     ]
    }
   ],
   "source": [
    "x=int(input(\"enter n:\"))\n",
    "i=1\n",
    "sum=0\n",
    "while i<=x:\n",
    "    sum=sum+i\n",
    "    i=i+1\n",
    "print(sum)\n",
    "    \n",
    "    "
   ]
  },
  {
   "cell_type": "code",
   "execution_count": 8,
   "id": "b082ac6d-f729-4d6b-9968-1762924e91cb",
   "metadata": {},
   "outputs": [
    {
     "name": "stdin",
     "output_type": "stream",
     "text": [
      "Enter a number:  10\n",
      "Enter other number:  45\n"
     ]
    },
    {
     "name": "stdout",
     "output_type": "stream",
     "text": [
      "the gcd is 5\n"
     ]
    }
   ],
   "source": [
    "x=int(input(\"Enter a number: \"))\n",
    "y=int(input(\"Enter other number: \"))\n",
    "if x>y:\n",
    "    N=x\n",
    "    D=y\n",
    "else:\n",
    "    N=y\n",
    "    D=x\n",
    "r=N%D\n",
    "while r!=0:\n",
    "    N=D\n",
    "    D=r\n",
    "    r=N % D\n",
    "print(\"the gcd is\",D)\n"
   ]
  },
  {
   "cell_type": "code",
   "execution_count": 9,
   "id": "a0fa0574-cccb-4502-9b96-f71c062a846e",
   "metadata": {},
   "outputs": [
    {
     "ename": "SyntaxError",
     "evalue": "incomplete input (632903691.py, line 2)",
     "output_type": "error",
     "traceback": [
      "\u001b[1;36m  Cell \u001b[1;32mIn[9], line 2\u001b[1;36m\u001b[0m\n\u001b[1;33m    while i<0:\u001b[0m\n\u001b[1;37m              ^\u001b[0m\n\u001b[1;31mSyntaxError\u001b[0m\u001b[1;31m:\u001b[0m incomplete input\n"
     ]
    }
   ],
   "source": []
  },
  {
   "cell_type": "code",
   "execution_count": null,
   "id": "3ba4d3b1-9fcc-4a66-8c9c-0450d31b2955",
   "metadata": {},
   "outputs": [],
   "source": []
  }
 ],
 "metadata": {
  "kernelspec": {
   "display_name": "Python 3 (ipykernel)",
   "language": "python",
   "name": "python3"
  },
  "language_info": {
   "codemirror_mode": {
    "name": "ipython",
    "version": 3
   },
   "file_extension": ".py",
   "mimetype": "text/x-python",
   "name": "python",
   "nbconvert_exporter": "python",
   "pygments_lexer": "ipython3",
   "version": "3.12.4"
  }
 },
 "nbformat": 4,
 "nbformat_minor": 5
}
